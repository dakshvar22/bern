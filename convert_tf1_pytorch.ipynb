{
 "cells": [
  {
   "cell_type": "code",
   "execution_count": null,
   "metadata": {},
   "outputs": [],
   "source": [
    "import tensorflow as tf \n",
    "import re\n",
    "import torch\n",
    "import numpy as np\n",
    "from transformers import BertConfig, BertForTokenClassification"
   ]
  },
  {
   "cell_type": "code",
   "execution_count": null,
   "metadata": {},
   "outputs": [],
   "source": [
    "tf_path = 'biobert_ner/pretrainedBERT/species/model.ckpt-90000'"
   ]
  },
  {
   "cell_type": "code",
   "execution_count": null,
   "metadata": {},
   "outputs": [],
   "source": [
    "init_vars = tf.train.list_variables(tf_path)"
   ]
  },
  {
   "cell_type": "code",
   "execution_count": null,
   "metadata": {},
   "outputs": [],
   "source": [
    "excluded = ['BERTAdam','_power','global_step']\n",
    "init_vars = list(filter(lambda x:all([True if e not in x[0] else False for e in excluded]),init_vars))"
   ]
  },
  {
   "cell_type": "code",
   "execution_count": null,
   "metadata": {},
   "outputs": [],
   "source": [
    "\n",
    "names = []\n",
    "arrays = []\n",
    "for name, shape in init_vars:\n",
    "    print(\"Loading TF weight {} with shape {}\".format(name, shape))\n",
    "    array = tf.train.load_variable(tf_path, name)\n",
    "    names.append(name)\n",
    "    arrays.append(array)"
   ]
  },
  {
   "cell_type": "code",
   "execution_count": null,
   "metadata": {},
   "outputs": [],
   "source": [
    "config_path = 'biobert_ner/conf/bert_config.json'\n"
   ]
  },
  {
   "cell_type": "code",
   "execution_count": null,
   "metadata": {},
   "outputs": [],
   "source": [
    "config = BertConfig.from_json_file(config_path)\n",
    "model = BertForTokenClassification(config)"
   ]
  },
  {
   "cell_type": "code",
   "execution_count": null,
   "metadata": {},
   "outputs": [],
   "source": [
    "model"
   ]
  },
  {
   "cell_type": "code",
   "execution_count": null,
   "metadata": {},
   "outputs": [],
   "source": [
    "for name, array in zip(names, arrays):\n",
    "    name = name.split(\"/\")\n",
    "    # adam_v and adam_m are variables used in AdamWeightDecayOptimizer to calculated m and v\n",
    "    # which are not required for using pretrained model\n",
    "    if any(\n",
    "        n in [\"adam_v\", \"adam_m\", \"AdamWeightDecayOptimizer\", \"AdamWeightDecayOptimizer_1\", \"global_step\"]\n",
    "        for n in name\n",
    "    ):\n",
    "#         logger.info(\"Skipping {}\".format(\"/\".join(name)))\n",
    "        continue\n",
    "    pointer = model\n",
    "    for m_name in name:\n",
    "        if re.fullmatch(r\"[A-Za-z]+_\\d+\", m_name):\n",
    "            scope_names = re.split(r\"_(\\d+)\", m_name)\n",
    "        else:\n",
    "            scope_names = [m_name]\n",
    "        print(name, m_name, scope_names)\n",
    "        if scope_names[0] == \"kernel\" or scope_names[0] == \"gamma\":\n",
    "#             print(\"first\")\n",
    "            pointer = getattr(pointer, \"weight\")\n",
    "        elif (scope_names[0] == \"output_bias\" or scope_names[0] == \"beta\") and name != ['output_bias']:\n",
    "            print(\"sec\")\n",
    "            pointer = getattr(pointer, \"bias\")\n",
    "        elif scope_names[0] == \"output_weights\" and name != ['output_weights']:\n",
    "#             print(\"th\")\n",
    "            pointer = getattr(pointer, \"weight\")\n",
    "        elif scope_names[0] == \"squad\":\n",
    "#             print(\"four\")\n",
    "            pointer = getattr(pointer, \"classifier\")\n",
    "        else:\n",
    "#             print(\"five\")\n",
    "            try:\n",
    "                pointer = getattr(pointer, scope_names[0])\n",
    "            except AttributeError:\n",
    "                if name == ['output_bias']:\n",
    "                    pointer = getattr(getattr(pointer, \"classifier\"),\"bias\")\n",
    "                elif name == ['output_weights']:\n",
    "                    pointer = getattr(getattr(pointer, \"classifier\"),\"weight\")\n",
    "                else:\n",
    "                    print(\"Skipping {}\".format(\"/\".join(name)))\n",
    "                    continue\n",
    "        if len(scope_names) >= 2:\n",
    "            num = int(scope_names[1])\n",
    "            pointer = pointer[num]\n",
    "    if m_name[-11:] == \"_embeddings\":\n",
    "        pointer = getattr(pointer, \"weight\")\n",
    "    elif m_name == \"kernel\":\n",
    "        array = np.transpose(array)\n",
    "    try:\n",
    "        assert (\n",
    "            pointer.shape == array.shape\n",
    "        ), f\"Pointer shape {pointer.shape} and array shape {array.shape} mismatched\"\n",
    "    except AssertionError as e:\n",
    "        e.args += (pointer.shape, array.shape)\n",
    "        raise\n",
    "    print(\"Initialize PyTorch weight {}\".format(name))\n",
    "    pointer.data = torch.from_numpy(array)"
   ]
  },
  {
   "cell_type": "code",
   "execution_count": null,
   "metadata": {},
   "outputs": [],
   "source": [
    "getattr(getattr(model, \"classifier\"),\"weight\")"
   ]
  },
  {
   "cell_type": "code",
   "execution_count": null,
   "metadata": {},
   "outputs": [],
   "source": [
    "getattr(getattr(model, \"classifier\"),\"bias\")"
   ]
  },
  {
   "cell_type": "code",
   "execution_count": null,
   "metadata": {},
   "outputs": [],
   "source": [
    "print(\"Save PyTorch model to {}\".format('biobert_ner/pytorch_dumps/species'))\n",
    "torch.save(model.state_dict(),'biobert_ner/pytorch_dumps/species/pytorch_model.bin')"
   ]
  },
  {
   "cell_type": "code",
   "execution_count": null,
   "metadata": {},
   "outputs": [],
   "source": [
    "new_model = BertForTokenClassification.from_pretrained('biobert_ner/pytorch_dumps/species')"
   ]
  },
  {
   "cell_type": "code",
   "execution_count": null,
   "metadata": {},
   "outputs": [],
   "source": [
    "getattr(getattr(new_model, \"classifier\"),\"bias\")"
   ]
  },
  {
   "cell_type": "code",
   "execution_count": null,
   "metadata": {},
   "outputs": [],
   "source": []
  }
 ],
 "metadata": {
  "kernelspec": {
   "display_name": "Python 3",
   "language": "python",
   "name": "python3"
  },
  "language_info": {
   "codemirror_mode": {
    "name": "ipython",
    "version": 3
   },
   "file_extension": ".py",
   "mimetype": "text/x-python",
   "name": "python",
   "nbconvert_exporter": "python",
   "pygments_lexer": "ipython3",
   "version": "3.7.6"
  }
 },
 "nbformat": 4,
 "nbformat_minor": 2
}
