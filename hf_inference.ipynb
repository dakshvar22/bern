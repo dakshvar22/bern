{
 "cells": [
  {
   "cell_type": "code",
   "execution_count": 17,
   "metadata": {},
   "outputs": [],
   "source": [
    "from transformers import BertConfig, BertForTokenClassification, BertTokenizer\n",
    "import torch\n",
    "import time\n",
    "import numpy as np"
   ]
  },
  {
   "cell_type": "code",
   "execution_count": 2,
   "metadata": {},
   "outputs": [],
   "source": [
    "model_path = 'biobert_ner/pytorch_dumps/drug/'"
   ]
  },
  {
   "cell_type": "code",
   "execution_count": 3,
   "metadata": {},
   "outputs": [],
   "source": [
    "tokenizer = BertTokenizer.from_pretrained(model_path, do_lower_case=False)\n",
    "model = BertForTokenClassification.from_pretrained(model_path)"
   ]
  },
  {
   "cell_type": "code",
   "execution_count": 10,
   "metadata": {},
   "outputs": [],
   "source": [
    "text = \"Remdesivir 200mg IV on day 1, followed by 100 mg IV daily infusion for 9 days plus optimized supportive care or until discharge from hospital, whichever occurs first\"\n",
    "text_2 = \"pyrazine carboxamide derivative (6-fluoro-3-hydroxy-2-pyrazinecarboxamide), a new type of RNA-dependent RNA polymerase (RdRp) inhibitor\""
   ]
  },
  {
   "cell_type": "code",
   "execution_count": 12,
   "metadata": {},
   "outputs": [],
   "source": [
    "# inputs = tokenizer.convert_tokens_to_ids(tokenizer.tokenize(text))\n",
    "# input_ids = get_token_ids(text, tokenizer)\n",
    "input_ids = tokenizer([text, text_2], return_tensors=\"pt\", padding=True)\n",
    "# print(input_ids, len(input_ids))"
   ]
  },
  {
   "cell_type": "code",
   "execution_count": 13,
   "metadata": {},
   "outputs": [
    {
     "data": {
      "text/plain": [
       "{'input_ids': tensor([[  101, 11336,  1306,  4704, 11083,  3161,  2363,  1306,  1403,  4191,\n",
       "          1113,  1285,   122,   117,  1723,  1118,  1620, 17713,  4191,  3828,\n",
       "          1107, 17149,  1111,   130,  1552,  4882, 11769,  3121, 26740, 17847,\n",
       "          1920,  1137,  1235, 12398,  1121,  2704,   117,  1134, 17791,  4365,\n",
       "          1148,   102,     0,     0,     0,     0,     0,     0,     0],\n",
       "        [  101,   185, 20153, 25593,  1610,  8757, 11787,  2007, 14478,   113,\n",
       "           127,   118, 23896, 14824,   118,   124,   118,   177, 19694, 16844,\n",
       "           118,   123,   118,   185, 20153, 25593,  8766,  8757, 11787,  2007,\n",
       "           114,   117,   170,  1207,  2076,  1104, 13254,   118,  7449, 13254,\n",
       "         21176,  6530,   113, 23604,  2069,  1643,   114, 27558,   102]]), 'token_type_ids': tensor([[0, 0, 0, 0, 0, 0, 0, 0, 0, 0, 0, 0, 0, 0, 0, 0, 0, 0, 0, 0, 0, 0, 0, 0,\n",
       "         0, 0, 0, 0, 0, 0, 0, 0, 0, 0, 0, 0, 0, 0, 0, 0, 0, 0, 0, 0, 0, 0, 0, 0,\n",
       "         0],\n",
       "        [0, 0, 0, 0, 0, 0, 0, 0, 0, 0, 0, 0, 0, 0, 0, 0, 0, 0, 0, 0, 0, 0, 0, 0,\n",
       "         0, 0, 0, 0, 0, 0, 0, 0, 0, 0, 0, 0, 0, 0, 0, 0, 0, 0, 0, 0, 0, 0, 0, 0,\n",
       "         0]]), 'attention_mask': tensor([[1, 1, 1, 1, 1, 1, 1, 1, 1, 1, 1, 1, 1, 1, 1, 1, 1, 1, 1, 1, 1, 1, 1, 1,\n",
       "         1, 1, 1, 1, 1, 1, 1, 1, 1, 1, 1, 1, 1, 1, 1, 1, 1, 1, 0, 0, 0, 0, 0, 0,\n",
       "         0],\n",
       "        [1, 1, 1, 1, 1, 1, 1, 1, 1, 1, 1, 1, 1, 1, 1, 1, 1, 1, 1, 1, 1, 1, 1, 1,\n",
       "         1, 1, 1, 1, 1, 1, 1, 1, 1, 1, 1, 1, 1, 1, 1, 1, 1, 1, 1, 1, 1, 1, 1, 1,\n",
       "         1]])}"
      ]
     },
     "execution_count": 13,
     "metadata": {},
     "output_type": "execute_result"
    }
   ],
   "source": [
    "input_ids"
   ]
  },
  {
   "cell_type": "code",
   "execution_count": 14,
   "metadata": {},
   "outputs": [
    {
     "name": "stdout",
     "output_type": "stream",
     "text": [
      "0.14939308166503906\n"
     ]
    }
   ],
   "source": [
    "start = time.time()\n",
    "outputs = model(**input_ids)\n",
    "end = time.time()\n",
    "print(end-start)"
   ]
  },
  {
   "cell_type": "code",
   "execution_count": 20,
   "metadata": {},
   "outputs": [],
   "source": [
    "logits = outputs[0].detach().numpy()"
   ]
  },
  {
   "cell_type": "code",
   "execution_count": 21,
   "metadata": {},
   "outputs": [],
   "source": [
    "preds = np.argmax(logits,-1)"
   ]
  },
  {
   "cell_type": "code",
   "execution_count": 22,
   "metadata": {},
   "outputs": [
    {
     "data": {
      "text/plain": [
       "(2, 49)"
      ]
     },
     "execution_count": 22,
     "metadata": {},
     "output_type": "execute_result"
    }
   ],
   "source": [
    "preds.shape"
   ]
  },
  {
   "cell_type": "code",
   "execution_count": 23,
   "metadata": {},
   "outputs": [
    {
     "name": "stdout",
     "output_type": "stream",
     "text": [
      "[[5 1 4 4 4 4 3 4 4 3 3 3 3 3 3 3 3 3 3 3 3 4 3 3 3 3 3 4 4 3 3 3 3 3 3 3\n",
      "  3 3 3 3 3 6 0 0 0 0 0 0 0]\n",
      " [5 1 4 4 2 4 4 4 3 3 1 2 2 4 2 2 2 2 4 4 2 2 2 2 4 4 4 4 4 4 3 3 3 3 3 3\n",
      "  3 3 3 3 3 4 3 3 4 4 3 3 6]]\n"
     ]
    }
   ],
   "source": [
    "print(preds)"
   ]
  },
  {
   "cell_type": "code",
   "execution_count": 24,
   "metadata": {},
   "outputs": [
    {
     "ename": "SyntaxError",
     "evalue": "invalid syntax (<ipython-input-24-511de0f74a31>, line 1)",
     "output_type": "error",
     "traceback": [
      "\u001b[0;36m  File \u001b[0;32m\"<ipython-input-24-511de0f74a31>\"\u001b[0;36m, line \u001b[0;32m1\u001b[0m\n\u001b[0;31m    preds[0] == [5 1 4 4 4 4 3 4 4 3 3 3 3 3 3 3 3 3 3 3 3 4 3 3 3 3 3 4 4 3 3 3 3 3 3 3 3\u001b[0m\n\u001b[0m                   ^\u001b[0m\n\u001b[0;31mSyntaxError\u001b[0m\u001b[0;31m:\u001b[0m invalid syntax\n"
     ]
    }
   ],
   "source": [
    "[5 1 4 4 2 4 4 4 3 3 1 2 2 4 2 2 2 2 4 4 2 2 2 2 4 4 4 4 4 4 3 3 3 3 3 3 3\n",
    " 3 3 3 3 4 3 3 4 4 3 3 6]"
   ]
  },
  {
   "cell_type": "code",
   "execution_count": 28,
   "metadata": {},
   "outputs": [],
   "source": [
    "s_lens = []\n",
    "for att_mask in input_ids['attention_mask']:\n",
    "    index = 0\n",
    "    found=False\n",
    "    for index, val in enumerate(att_mask):\n",
    "        if val==0:\n",
    "            found=True\n",
    "            break\n",
    "    if not found:\n",
    "        index+=1\n",
    "    s_lens.append(index)"
   ]
  },
  {
   "cell_type": "code",
   "execution_count": 29,
   "metadata": {},
   "outputs": [
    {
     "data": {
      "text/plain": [
       "[42, 49]"
      ]
     },
     "execution_count": 29,
     "metadata": {},
     "output_type": "execute_result"
    }
   ],
   "source": [
    "s_lens"
   ]
  },
  {
   "cell_type": "code",
   "execution_count": 42,
   "metadata": {},
   "outputs": [
    {
     "name": "stdout",
     "output_type": "stream",
     "text": [
      "['[CLS]', 'Re', '##m', '##des', '##iv', '##ir', '200', '##m', '##g', 'IV', 'on', 'day', '1', ',', 'followed', 'by', '100', 'mg', 'IV', 'daily', 'in', '##fusion', 'for', '9', 'days', 'plus', 'op', '##ti', '##mized', 'supportive', 'care', 'or', 'until', 'discharge', 'from', 'hospital', ',', 'which', '##ever', 'occurs', 'first', '[SEP]', '[CLS]', 'p', '##yra', '##zine', 'car', '##box', '##ami', '##de', 'derivative', '(', '6', '-', 'flu', '##oro', '-', '3', '-', 'h', '##ydro', '##xy', '-', '2', '-', 'p', '##yra', '##zine', '##car', '##box', '##ami', '##de', ')', ',', 'a', 'new', 'type', 'of', 'RNA', '-', 'dependent', 'RNA', 'polymer', '##ase', '(', 'Rd', '##R', '##p', ')', 'inhibitor', '[SEP]']\n"
     ]
    }
   ],
   "source": [
    "tot_tokens = []\n",
    "for s_len, input_id in zip(s_lens, input_ids['input_ids']):\n",
    "    tokens = tokenizer.convert_ids_to_tokens(input_id)\n",
    "    tot_tokens += tokens[:s_len]\n",
    "print(tot_tokens)"
   ]
  },
  {
   "cell_type": "code",
   "execution_count": null,
   "metadata": {},
   "outputs": [],
   "source": []
  }
 ],
 "metadata": {
  "kernelspec": {
   "display_name": "Python 3",
   "language": "python",
   "name": "python3"
  },
  "language_info": {
   "codemirror_mode": {
    "name": "ipython",
    "version": 3
   },
   "file_extension": ".py",
   "mimetype": "text/x-python",
   "name": "python",
   "nbconvert_exporter": "python",
   "pygments_lexer": "ipython3",
   "version": "3.7.0"
  }
 },
 "nbformat": 4,
 "nbformat_minor": 4
}
